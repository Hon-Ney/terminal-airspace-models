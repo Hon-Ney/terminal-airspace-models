{
 "cells": [
  {
   "cell_type": "code",
   "execution_count": 2,
   "metadata": {
    "collapsed": true
   },
   "outputs": [],
   "source": [
    "import matplotlib as mpl\n",
    "import matplotlib.pyplot as plt\n",
    "from matplotlib.colors import LogNorm\n",
    "import pickle\n",
    "\n",
    "import numpy as np\n",
    "import pandas as pd\n",
    "from sklearn.utils import shuffle\n",
    "\n",
    "import bandmat as bm\n",
    "import numpy as np\n",
    "from scipy.linalg import solve_banded\n",
    "import matplotlib.pyplot as plt\n",
    "from scipy.constants import g"
   ]
  },
  {
   "cell_type": "code",
   "execution_count": 3,
   "metadata": {
    "collapsed": true
   },
   "outputs": [],
   "source": [
    "def smooth(a, Phat, N, lambda_1, lambda_2):\n",
    "    \"\"\"\n",
    "    a: (N,) number of measurements at timestep\n",
    "    Phat: (N, 3) sum of measurements at timestep\n",
    "    N: num time steps\n",
    "    lambda_1, lambda_2: regularization parameters\n",
    "    \n",
    "    returns:\n",
    "        - P: (N, 3)\n",
    "    \"\"\"\n",
    "    A = bm.diag(1.*a)\n",
    "    \n",
    "    D_2_bm_T = bm.BandMat(\n",
    "        1, 1,\n",
    "        np.hstack([np.zeros((3, 1)), np.repeat([[1.], [-2.], [1.]], N-2, axis=1), np.zeros((3, 1))])\n",
    "    )\n",
    "    \n",
    "    D_3_bm_T = bm.BandMat(\n",
    "        2, 2,\n",
    "        np.hstack([np.zeros((5, 2)), np.repeat([[-1.], [2.], [0.], [-2.], [1.]], N-4, axis=1), np.zeros((5, 2))])\n",
    "    )\n",
    "        \n",
    "    ab = bm.dot_mm(A, A) + lambda_1/N * bm.dot_mm(D_2_bm_T, D_2_bm_T.T) + lambda_2/N * bm.dot_mm(D_3_bm_T, D_3_bm_T.T)\n",
    "    l_and_u = (ab.l, ab.u)\n",
    "    b = np.hstack([\n",
    "            np.expand_dims(bm.dot_mv(A, Phat[:, 0]), -1),\n",
    "            np.expand_dims(bm.dot_mv(A, Phat[:, 1]), -1),\n",
    "            np.expand_dims(bm.dot_mv(A, Phat[:, 2]), -1)\n",
    "    ])\n",
    "    \n",
    "    P = solve_banded(l_and_u, ab.data, b)\n",
    "    \n",
    "    return P"
   ]
  },
  {
   "cell_type": "markdown",
   "metadata": {},
   "source": [
    "## Simulate aircraft trajectory"
   ]
  },
  {
   "cell_type": "code",
   "execution_count": 5,
   "metadata": {},
   "outputs": [],
   "source": [
    "dt = .01 # 1/100 second\n",
    "one_over_dt = int(1./dt)\n",
    "Ts = 100\n",
    "T = int(Ts/dt) # 10000\n",
    "x = np.zeros((T, 5)) # [p, V, \\psi]\n",
    "x[0, :] = np.array([100, 100, 100, 10, .1]) # initial state\n",
    "\n",
    "V = 100 # aircraft airspeed\n",
    "u = np.zeros((T, 3)) # [\\gamma, \\phi, dV]\n",
    "u[20*one_over_dt:500*one_over_dt, 0] = .02\n",
    "u[10*one_over_dt:12*one_over_dt, 1] = .5\n",
    "u[50*one_over_dt:52*one_over_dt, 1] = -.3\n",
    "u[130*one_over_dt:152*one_over_dt, 1] = -.1\n",
    "\n",
    "for i in range(T-1):\n",
    "    p = x[i, :3]\n",
    "    V = x[i, 3]\n",
    "    psi = x[i, 4]\n",
    "    gamma, phi, d_V = u[i, :]\n",
    "    \n",
    "    d_p = V * np.array([\n",
    "        np.sin(psi)*np.cos(gamma),\n",
    "        np.cos(psi)*np.cos(gamma),\n",
    "        np.sin(gamma)\n",
    "    ])\n",
    "    d_psi = (g*np.tan(phi)/V)\n",
    "    x[i+1, :3] = p + dt * d_p\n",
    "    x[i+1, 3] = V + dt * d_V\n",
    "    x[i+1, 4] = psi + dt * d_psi\n",
    "    \n",
    "p = x[:, :3]\n",
    "p = p[::one_over_dt, :]\n",
    "noise = np.random.multivariate_normal([0, 0, 0], 50*np.eye(3), size=Ts)\n",
    "p_wiggle = p + noise"
   ]
  },
  {
   "cell_type": "code",
   "execution_count": 20,
   "metadata": {},
   "outputs": [
    {
     "data": {
      "image/png": "[encoded data removed]",
      "text/plain": [
       "<matplotlib.figure.Figure at 0x1519efe860>"
      ]
     },
     "metadata": {},
     "output_type": "display_data"
    }
   ],
   "source": [
    "# longitudinal view\n",
    "\n",
    "plt.plot(p[:,0],p[:,1])\n",
    "plt.scatter(p_wiggle[:,0],p_wiggle[:,1], s=4, alpha=.5)\n",
    "plt.show()"
   ]
  },
  {
   "cell_type": "code",
   "execution_count": 22,
   "metadata": {},
   "outputs": [
    {
     "data": {
      "image/png": "[encoded data removed]",
      "text/plain": [
       "<matplotlib.figure.Figure at 0x1519d3aeb8>"
      ]
     },
     "metadata": {},
     "output_type": "display_data"
    }
   ],
   "source": [
    "# vertical profile\n",
    "\n",
    "plt.plot(p[:,2])\n",
    "plt.scatter(np.arange(p_wiggle.shape[0]),p_wiggle[:,2], s=4, alpha=.5)\n",
    "plt.show()"
   ]
  },
  {
   "cell_type": "markdown",
   "metadata": {},
   "source": [
    "### Smooth with various values of $\\lambda_1$ and $\\lambda_2$"
   ]
  },
  {
   "cell_type": "code",
   "execution_count": 9,
   "metadata": {},
   "outputs": [
    {
     "data": {
      "image/png": "[encoded data removed]",
      "text/plain": [
       "<matplotlib.figure.Figure at 0x1519a08b00>"
      ]
     },
     "metadata": {},
     "output_type": "display_data"
    }
   ],
   "source": [
    "N = Ts+20\n",
    "a = np.zeros(N)\n",
    "a[:-20:2] = 1\n",
    "Phat = np.zeros((N, 3))\n",
    "Phat[:-20:2, :] = p_wiggle[::2, :]\n",
    "\n",
    "lambda_1s = (1e-6,1e4,1e10)\n",
    "lambda_2s = (1e-6,1e4,1e7)\n",
    "\n",
    "fig, axs = plt.subplots(nrows=len(lambda_1s), ncols=len(lambda_2s), sharex=True, sharey=True)\n",
    "fig.subplots_adjust(left=.08, bottom=.05, right=.99, top=.97)\n",
    "for i, lambda_1 in enumerate(lambda_1s):\n",
    "    for j, lambda_2 in enumerate(lambda_2s): \n",
    "        P = smooth(a, Phat, N, lambda_1, lambda_2)\n",
    "        axs[i, j].scatter(p_wiggle[::2, 0], p_wiggle[::2, 1], s=3, alpha=.6, c='gray')\n",
    "        axs[i, j].plot(P[:, 0], P[:, 1], linewidth=1, c='black', alpha=.8)\n",
    "        axs[i, j].xaxis.set_major_formatter(plt.NullFormatter())\n",
    "        axs[i, j].yaxis.set_major_formatter(plt.NullFormatter())\n",
    "        axs[i,j].set_yticks([])\n",
    "        axs[i,j].set_xticks([])\n",
    "z = 40\n",
    "axs[0, 0].set_ylabel('$1 \\\\times 10^{-6}$')\n",
    "axs[1, 0].set_ylabel('$1 \\\\times 10^{4}$')\n",
    "axs[2, 0].set_ylabel('$1 \\\\times 10^{10}$')\n",
    "axs[-1, 0].set_xlabel('$1 \\\\times 10^{-6}$')\n",
    "axs[-1, 1].set_xlabel('$1 \\\\times 10^{4}$')\n",
    "axs[-1, 2].set_xlabel('$1 \\\\times 10^{7}$')\n",
    "fig.set_size_inches(6, 6)\n",
    "plt.show()"
   ]
  },
  {
   "cell_type": "markdown",
   "metadata": {},
   "source": [
    "### Test out-of-sample-validation"
   ]
  },
  {
   "cell_type": "code",
   "execution_count": 14,
   "metadata": {
    "collapsed": true
   },
   "outputs": [],
   "source": [
    "def train_test_split(data, fraction_val):\n",
    "    data_shuffled = shuffle(data)\n",
    "    n_val = int(data.shape[0]*fraction_val)\n",
    "\n",
    "    return data_shuffled[n_val:], data_shuffled[:n_val]\n",
    "\n",
    "def convert_dataset(data, L):\n",
    "    Phat = np.zeros((L, 3))\n",
    "    a = np.zeros(L)\n",
    "    for i in range(data.shape[0]):\n",
    "        t, p = int(data[i, 0]), data[i, 1:]\n",
    "        if t < L:\n",
    "            Phat[t, :] += p\n",
    "            a[t] += 1\n",
    "\n",
    "    return Phat, a\n",
    "def val_loss(a, P, Phat):\n",
    "    return np.linalg.norm(np.diag(a).dot(P-Phat), 2)\n",
    "\n",
    "def smooth_cross_validation(traj, fraction_val=.4, L=225):\n",
    "    N = max(L, int(np.max(traj[:, 0])))\n",
    "\n",
    "    best_loss, best_lambda_1, best_lambda_2 = float(\"inf\"), 1., 1.\n",
    "    train, test = train_test_split(traj, fraction_val)\n",
    "    Phat_train, a_train = convert_dataset(train, N)\n",
    "    Phat_test, a_test = convert_dataset(test, N)\n",
    "    for log_lambda_1 in [-6, 4, 10]:\n",
    "        for log_lambda_2 in [-6, 4, 10]:\n",
    "            loss = 0.0\n",
    "            P = smooth(a_train, Phat_train, N, 10**log_lambda_1, 10**log_lambda_2)\n",
    "            loss = val_loss(a_test, P, Phat_test) / 50.\n",
    "            if loss < best_loss:\n",
    "                best_loss = loss\n",
    "                best_lambda_1, best_lambda_2 = 10**log_lambda_1, 10**log_lambda_2\n",
    "            print (\"\\\\num{%.3f} & \" % loss, end=\"\")\n",
    "        print (\"\\\\\\\\\")\n",
    "    print (\"best:\", best_lambda_1, best_lambda_2)\n",
    "    Phat, a = convert_dataset(traj, N)\n",
    "    return smooth(a, Phat, N, best_lambda_1, best_lambda_2)"
   ]
  },
  {
   "cell_type": "code",
   "execution_count": 15,
   "metadata": {},
   "outputs": [
    {
     "name": "stdout",
     "output_type": "stream",
     "text": [
      "\\num{1.675} & \\num{1.198} & \\num{2.724} & \\\\\n",
      "\\num{1.138} & \\num{1.143} & \\num{2.724} & \\\\\n",
      "\\num{4.999} & \\num{4.999} & \\num{4.999} & \\\\\n",
      "best: 10000 1e-06\n"
     ]
    }
   ],
   "source": [
    "traj = np.c_[np.arange(p_wiggle.shape[0])*2, p_wiggle]\n",
    "smooth_cross_validation(traj, L=int(np.max(traj[0, :])+1))\n",
    "pass"
   ]
  },
  {
   "cell_type": "code",
   "execution_count": null,
   "metadata": {
    "collapsed": true
   },
   "outputs": [],
   "source": []
  }
 ],
 "metadata": {
  "kernelspec": {
   "display_name": "Python 3",
   "language": "python",
   "name": "python3"
  },
  "language_info": {
   "codemirror_mode": {
    "name": "ipython",
    "version": 3
   },
   "file_extension": ".py",
   "mimetype": "text/x-python",
   "name": "python",
   "nbconvert_exporter": "python",
   "pygments_lexer": "ipython3",
   "version": "3.6.1"
  }
 },
 "nbformat": 4,
 "nbformat_minor": 2
}
